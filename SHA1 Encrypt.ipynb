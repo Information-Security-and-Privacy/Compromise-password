{
 "cells": [
  {
   "cell_type": "code",
   "execution_count": 16,
   "id": "9a8054ad",
   "metadata": {},
   "outputs": [],
   "source": [
    "import hashlib\n"
   ]
  },
  {
   "cell_type": "code",
   "execution_count": 17,
   "id": "750ea666",
   "metadata": {},
   "outputs": [],
   "source": [
    "#open txt file to read\n",
    "#password_list = 'rockyou.txt'\n",
    "password_list = '10-million-password-list-top-1000000.txt'\n",
    "\n",
    "f = open(password_list, encoding='latin-1')\n",
    "pass_list = f.read().splitlines()\n"
   ]
  },
  {
   "cell_type": "code",
   "execution_count": 19,
   "id": "d79d764e",
   "metadata": {},
   "outputs": [],
   "source": [
    "#open new file to write the hashes\n",
    "\n",
    "#output_file = 'rockyou_SHA1.txt'\n",
    "output_file = '10million_SHA1.txt'\n",
    "hfile = open(output_file, 'w')\n"
   ]
  },
  {
   "cell_type": "code",
   "execution_count": 20,
   "id": "54588106",
   "metadata": {},
   "outputs": [],
   "source": [
    "#loop through password list from rockyou and hash it using SHA1\n",
    "\n",
    "hash_list = []\n",
    "for pawd in pass_list:\n",
    "    hash_pass = hashlib.sha1(pawd.encode())\n",
    "    hash_list.append(hash_pass.hexdigest() + ' : ' + pawd + '\\n')\n",
    " "
   ]
  },
  {
   "cell_type": "code",
   "execution_count": 21,
   "id": "3cb27ff0",
   "metadata": {},
   "outputs": [
    {
     "name": "stdout",
     "output_type": "stream",
     "text": [
      "7c4a8d09ca3762af61e59520943dc26494f8941b : 123456\n",
      "\n"
     ]
    }
   ],
   "source": [
    "print(hash_list[0])"
   ]
  },
  {
   "cell_type": "code",
   "execution_count": 22,
   "id": "1f05c60e",
   "metadata": {},
   "outputs": [],
   "source": [
    "#write hashes to a file.\n",
    "hfile.writelines(hash_list)"
   ]
  },
  {
   "cell_type": "code",
   "execution_count": 23,
   "id": "2d16bfed",
   "metadata": {},
   "outputs": [],
   "source": [
    "f.close()\n",
    "hfile.close()\n"
   ]
  }
 ],
 "metadata": {
  "kernelspec": {
   "display_name": "Python 3 (ipykernel)",
   "language": "python",
   "name": "python3"
  },
  "language_info": {
   "codemirror_mode": {
    "name": "ipython",
    "version": 3
   },
   "file_extension": ".py",
   "mimetype": "text/x-python",
   "name": "python",
   "nbconvert_exporter": "python",
   "pygments_lexer": "ipython3",
   "version": "3.11.4"
  }
 },
 "nbformat": 4,
 "nbformat_minor": 5
}
