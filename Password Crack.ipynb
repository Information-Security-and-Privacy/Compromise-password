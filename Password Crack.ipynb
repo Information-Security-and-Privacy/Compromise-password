{
 "cells": [
  {
   "cell_type": "code",
   "execution_count": 1,
   "id": "852976a3",
   "metadata": {},
   "outputs": [],
   "source": [
    "from bisect import bisect_left\n",
    " \n",
    "def BinarySearch(a, x):\n",
    "    i = bisect_left(a, x)\n",
    "    if i != len(a) and a[i] == x:\n",
    "        return i\n",
    "    else:\n",
    "        return -1"
   ]
  },
  {
   "cell_type": "code",
   "execution_count": 2,
   "id": "aeff7c77",
   "metadata": {},
   "outputs": [],
   "source": [
    "def crack_password(wordlist_file, input_file, output_file):\n",
    "    \n",
    "    wordlist = open(wordlist_file, 'r')\n",
    "    hash_dict = dict([line.rstrip('\\n').split(' : ', maxsplit = 1) for line in wordlist])\n",
    "    key_list = list(hash_dict.keys())\n",
    "    \n",
    "    target_hashfile = open(input_file, 'r')\n",
    "    input_hash = target_hashfile.read().split()\n",
    "    \n",
    "    result_file = open(output_file, 'w')\n",
    "    \n",
    "    input_hash.sort()\n",
    "    \n",
    "    for key in key_list:\n",
    "    \n",
    "        res = BinarySearch(input_hash, key)\n",
    "        if res != -1:\n",
    "            result_file.write(key + ' ' + hash_dict[key] + '\\n')\n",
    "    \n",
    "    wordlist.close()\n",
    "    target_hashfile.close()\n",
    "    result_file.close()"
   ]
  },
  {
   "cell_type": "code",
   "execution_count": 4,
   "id": "2eaec7c7",
   "metadata": {},
   "outputs": [],
   "source": [
    "crack_password('10million_SHA1.txt','./linkedin/SHA1.txt','Linkedin_pass_dump.txt')"
   ]
  },
  {
   "cell_type": "code",
   "execution_count": 5,
   "id": "8f29d5cd",
   "metadata": {},
   "outputs": [],
   "source": [
    "crack_password('10million_SHA256.txt','./formspring/formspring.txt','formspring_pass_dump.txt')"
   ]
  }
 ],
 "metadata": {
  "kernelspec": {
   "display_name": "Python 3 (ipykernel)",
   "language": "python",
   "name": "python3"
  },
  "language_info": {
   "codemirror_mode": {
    "name": "ipython",
    "version": 3
   },
   "file_extension": ".py",
   "mimetype": "text/x-python",
   "name": "python",
   "nbconvert_exporter": "python",
   "pygments_lexer": "ipython3",
   "version": "3.11.4"
  }
 },
 "nbformat": 4,
 "nbformat_minor": 5
}
