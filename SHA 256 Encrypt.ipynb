{
 "cells": [
  {
   "cell_type": "code",
   "execution_count": 1,
   "id": "9a06f748",
   "metadata": {},
   "outputs": [],
   "source": [
    "import hashlib\n"
   ]
  },
  {
   "cell_type": "code",
   "execution_count": 2,
   "id": "9173c58c",
   "metadata": {},
   "outputs": [],
   "source": [
    "#open txt file to read\n",
    "#password_list = 'rockyou.txt'\n",
    "password_list = '10-million-password-list-top-1000000.txt'\n",
    "\n",
    "f = open(password_list, encoding='latin-1')\n",
    "pass_list = f.read().splitlines()\n"
   ]
  },
  {
   "cell_type": "code",
   "execution_count": 3,
   "id": "9a7312d4",
   "metadata": {},
   "outputs": [],
   "source": [
    "#open new file to write the hashes\n",
    "#output_file = 'rockyou_SHA256.txt'\n",
    "output_file = '10million_SHA256.txt'\n",
    "hfile = open(output_file, 'w')"
   ]
  },
  {
   "cell_type": "code",
   "execution_count": 4,
   "id": "fe050fb1",
   "metadata": {},
   "outputs": [],
   "source": [
    "#loop through password list from rockyou and hash it using SHA1\n",
    "\n",
    "hash_list = []\n",
    "for pawd in pass_list:\n",
    "    hash_pass = hashlib.sha256(pawd.encode())\n",
    "    hash_list.append(hash_pass.hexdigest() + ' : ' + pawd + '\\n')\n",
    "    "
   ]
  },
  {
   "cell_type": "code",
   "execution_count": 5,
   "id": "6db76c19",
   "metadata": {},
   "outputs": [
    {
     "name": "stdout",
     "output_type": "stream",
     "text": [
      "8d969eef6ecad3c29a3a629280e686cf0c3f5d5a86aff3ca12020c923adc6c92 : 123456\n",
      "\n"
     ]
    }
   ],
   "source": [
    "print(hash_list[0])"
   ]
  },
  {
   "cell_type": "code",
   "execution_count": 6,
   "id": "eb6770e8",
   "metadata": {},
   "outputs": [],
   "source": [
    "#write hashes to a file.\n",
    "hfile.writelines(hash_list)"
   ]
  },
  {
   "cell_type": "code",
   "execution_count": 7,
   "id": "b6fff15e",
   "metadata": {},
   "outputs": [],
   "source": [
    "#close both the file\n",
    "f.close()\n",
    "hfile.close()\n"
   ]
  }
 ],
 "metadata": {
  "kernelspec": {
   "display_name": "Python 3 (ipykernel)",
   "language": "python",
   "name": "python3"
  },
  "language_info": {
   "codemirror_mode": {
    "name": "ipython",
    "version": 3
   },
   "file_extension": ".py",
   "mimetype": "text/x-python",
   "name": "python",
   "nbconvert_exporter": "python",
   "pygments_lexer": "ipython3",
   "version": "3.11.4"
  }
 },
 "nbformat": 4,
 "nbformat_minor": 5
}
